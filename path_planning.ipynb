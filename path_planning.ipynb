{
 "cells": [
  {
   "cell_type": "code",
   "execution_count": 174,
   "metadata": {},
   "outputs": [],
   "source": [
    "from queue import Queue\n",
    "import matplotlib.pyplot as plt\n",
    "import numpy as np\n",
    "import collections"
   ]
  },
  {
   "cell_type": "code",
   "execution_count": 175,
   "metadata": {},
   "outputs": [],
   "source": [
    "def shortest_path(grid):\n",
    "    start= (10,10)\n",
    "    q = collections.deque([[start]])\n",
    "    visited = set([start])\n",
    "    m= len(grid[0])\n",
    "    n= len(grid)\n",
    "\n",
    "    # contains all the paths found\n",
    "    paths = []\n",
    "\n",
    "    # search flag for the shortest distance\n",
    "    min_pathlen = None\n",
    "    \n",
    "    #checking while there are elements\n",
    "    while q:\n",
    "        #extract coordinates that currenlty looking at\n",
    "        path = q.popleft()\n",
    "\n",
    "        # check if we already passed the min_path_length\n",
    "        if min_pathlen is not None and min_pathlen < len(path):\n",
    "            break\n",
    "\n",
    "        x, y = path[-1]\n",
    "        if grid[x][y] == target:\n",
    "            # check if this is the first encounter of min_path\n",
    "            if min_pathlen is None: min_pathlen = len(path)\n",
    "\n",
    "            # we can double check len(path) == min_path_length before adding path\n",
    "            paths.append(path)\n",
    "            \n",
    "        #iterate for all neighbours of x,y\n",
    "        for dx, dy in ((x+10,y), (x,y+10), (x,y-10)):\n",
    "            #check if there is no obstacle and not overstepping boundaries and if vistited or not\n",
    "            if 0 <= dx < m and 0 <= dy < n and  grid[dx][dy] != 1 and (dx, dy) not in visited:\n",
    "                q.append(path + [(dx, dy)])\n",
    "                visited.add((dx, dy))\n",
    "\n",
    "    return paths"
   ]
  },
  {
   "cell_type": "code",
   "execution_count": 176,
   "metadata": {},
   "outputs": [
    {
     "data": {
      "text/plain": [
       "array([[0, 0, 0, ..., 0, 0, 0],\n",
       "       [0, 0, 0, ..., 0, 0, 0],\n",
       "       [0, 0, 0, ..., 0, 0, 0],\n",
       "       ...,\n",
       "       [0, 0, 0, ..., 0, 0, 0],\n",
       "       [0, 0, 0, ..., 0, 0, 0],\n",
       "       [0, 0, 0, ..., 0, 0, 0]])"
      ]
     },
     "execution_count": 176,
     "metadata": {},
     "output_type": "execute_result"
    }
   ],
   "source": [
    "mapp = np.zeros((1000,1000))\n",
    "mapp = mapp.astype(int)\n",
    "mapp"
   ]
  },
  {
   "cell_type": "code",
   "execution_count": 177,
   "metadata": {},
   "outputs": [],
   "source": [
    "mapp[0:200,800:1000]=1\n",
    "mapp[400:600,0:800]=1\n",
    "mapp[700:800,600:1000]=1"
   ]
  },
  {
   "cell_type": "code",
   "execution_count": 178,
   "metadata": {},
   "outputs": [],
   "source": [
    "target= 2\n",
    "mapp[950][950]=2"
   ]
  },
  {
   "cell_type": "code",
   "execution_count": 179,
   "metadata": {},
   "outputs": [
    {
     "data": {
      "text/plain": [
       "[[(10, 10),\n",
       "  (20, 10),\n",
       "  (30, 10),\n",
       "  (40, 10),\n",
       "  (50, 10),\n",
       "  (60, 10),\n",
       "  (70, 10),\n",
       "  (80, 10),\n",
       "  (90, 10),\n",
       "  (100, 10),\n",
       "  (110, 10),\n",
       "  (120, 10),\n",
       "  (130, 10),\n",
       "  (140, 10),\n",
       "  (150, 10),\n",
       "  (160, 10),\n",
       "  (170, 10),\n",
       "  (180, 10),\n",
       "  (190, 10),\n",
       "  (200, 10),\n",
       "  (210, 10),\n",
       "  (220, 10),\n",
       "  (230, 10),\n",
       "  (240, 10),\n",
       "  (250, 10),\n",
       "  (260, 10),\n",
       "  (270, 10),\n",
       "  (280, 10),\n",
       "  (290, 10),\n",
       "  (300, 10),\n",
       "  (310, 10),\n",
       "  (320, 10),\n",
       "  (330, 10),\n",
       "  (340, 10),\n",
       "  (350, 10),\n",
       "  (360, 10),\n",
       "  (370, 10),\n",
       "  (380, 10),\n",
       "  (390, 10),\n",
       "  (390, 20),\n",
       "  (390, 30),\n",
       "  (390, 40),\n",
       "  (390, 50),\n",
       "  (390, 60),\n",
       "  (390, 70),\n",
       "  (390, 80),\n",
       "  (390, 90),\n",
       "  (390, 100),\n",
       "  (390, 110),\n",
       "  (390, 120),\n",
       "  (390, 130),\n",
       "  (390, 140),\n",
       "  (390, 150),\n",
       "  (390, 160),\n",
       "  (390, 170),\n",
       "  (390, 180),\n",
       "  (390, 190),\n",
       "  (390, 200),\n",
       "  (390, 210),\n",
       "  (390, 220),\n",
       "  (390, 230),\n",
       "  (390, 240),\n",
       "  (390, 250),\n",
       "  (390, 260),\n",
       "  (390, 270),\n",
       "  (390, 280),\n",
       "  (390, 290),\n",
       "  (390, 300),\n",
       "  (390, 310),\n",
       "  (390, 320),\n",
       "  (390, 330),\n",
       "  (390, 340),\n",
       "  (390, 350),\n",
       "  (390, 360),\n",
       "  (390, 370),\n",
       "  (390, 380),\n",
       "  (390, 390),\n",
       "  (390, 400),\n",
       "  (390, 410),\n",
       "  (390, 420),\n",
       "  (390, 430),\n",
       "  (390, 440),\n",
       "  (390, 450),\n",
       "  (390, 460),\n",
       "  (390, 470),\n",
       "  (390, 480),\n",
       "  (390, 490),\n",
       "  (390, 500),\n",
       "  (390, 510),\n",
       "  (390, 520),\n",
       "  (390, 530),\n",
       "  (390, 540),\n",
       "  (390, 550),\n",
       "  (390, 560),\n",
       "  (390, 570),\n",
       "  (390, 580),\n",
       "  (390, 590),\n",
       "  (390, 600),\n",
       "  (390, 610),\n",
       "  (390, 620),\n",
       "  (390, 630),\n",
       "  (390, 640),\n",
       "  (390, 650),\n",
       "  (390, 660),\n",
       "  (390, 670),\n",
       "  (390, 680),\n",
       "  (390, 690),\n",
       "  (390, 700),\n",
       "  (390, 710),\n",
       "  (390, 720),\n",
       "  (390, 730),\n",
       "  (390, 740),\n",
       "  (390, 750),\n",
       "  (390, 760),\n",
       "  (390, 770),\n",
       "  (390, 780),\n",
       "  (390, 790),\n",
       "  (390, 800),\n",
       "  (400, 800),\n",
       "  (410, 800),\n",
       "  (420, 800),\n",
       "  (430, 800),\n",
       "  (440, 800),\n",
       "  (450, 800),\n",
       "  (460, 800),\n",
       "  (470, 800),\n",
       "  (480, 800),\n",
       "  (490, 800),\n",
       "  (500, 800),\n",
       "  (510, 800),\n",
       "  (520, 800),\n",
       "  (530, 800),\n",
       "  (540, 800),\n",
       "  (550, 800),\n",
       "  (560, 800),\n",
       "  (570, 800),\n",
       "  (580, 800),\n",
       "  (590, 800),\n",
       "  (600, 800),\n",
       "  (610, 800),\n",
       "  (620, 800),\n",
       "  (630, 800),\n",
       "  (640, 800),\n",
       "  (650, 800),\n",
       "  (660, 800),\n",
       "  (670, 800),\n",
       "  (680, 800),\n",
       "  (690, 800),\n",
       "  (690, 790),\n",
       "  (690, 780),\n",
       "  (690, 770),\n",
       "  (690, 760),\n",
       "  (690, 750),\n",
       "  (690, 740),\n",
       "  (690, 730),\n",
       "  (690, 720),\n",
       "  (690, 710),\n",
       "  (690, 700),\n",
       "  (690, 690),\n",
       "  (690, 680),\n",
       "  (690, 670),\n",
       "  (690, 660),\n",
       "  (690, 650),\n",
       "  (690, 640),\n",
       "  (690, 630),\n",
       "  (690, 620),\n",
       "  (690, 610),\n",
       "  (690, 600),\n",
       "  (690, 590),\n",
       "  (700, 590),\n",
       "  (710, 590),\n",
       "  (720, 590),\n",
       "  (730, 590),\n",
       "  (740, 590),\n",
       "  (750, 590),\n",
       "  (760, 590),\n",
       "  (770, 590),\n",
       "  (780, 590),\n",
       "  (790, 590),\n",
       "  (800, 590),\n",
       "  (810, 590),\n",
       "  (820, 590),\n",
       "  (830, 590),\n",
       "  (840, 590),\n",
       "  (850, 590),\n",
       "  (860, 590),\n",
       "  (870, 590),\n",
       "  (880, 590),\n",
       "  (890, 590),\n",
       "  (900, 590),\n",
       "  (910, 590),\n",
       "  (920, 590),\n",
       "  (930, 590),\n",
       "  (940, 590),\n",
       "  (950, 590),\n",
       "  (950, 600),\n",
       "  (950, 610),\n",
       "  (950, 620),\n",
       "  (950, 630),\n",
       "  (950, 640),\n",
       "  (950, 650),\n",
       "  (950, 660),\n",
       "  (950, 670),\n",
       "  (950, 680),\n",
       "  (950, 690),\n",
       "  (950, 700),\n",
       "  (950, 710),\n",
       "  (950, 720),\n",
       "  (950, 730),\n",
       "  (950, 740),\n",
       "  (950, 750),\n",
       "  (950, 760),\n",
       "  (950, 770),\n",
       "  (950, 780),\n",
       "  (950, 790),\n",
       "  (950, 800),\n",
       "  (950, 810),\n",
       "  (950, 820),\n",
       "  (950, 830),\n",
       "  (950, 840),\n",
       "  (950, 850),\n",
       "  (950, 860),\n",
       "  (950, 870),\n",
       "  (950, 880),\n",
       "  (950, 890),\n",
       "  (950, 900),\n",
       "  (950, 910),\n",
       "  (950, 920),\n",
       "  (950, 930),\n",
       "  (950, 940),\n",
       "  (950, 950)]]"
      ]
     },
     "execution_count": 179,
     "metadata": {},
     "output_type": "execute_result"
    }
   ],
   "source": [
    "path= shortest_path(mapp)\n",
    "path"
   ]
  },
  {
   "cell_type": "code",
   "execution_count": 180,
   "metadata": {},
   "outputs": [
    {
     "data": {
      "text/plain": [
       "231"
      ]
     },
     "execution_count": 180,
     "metadata": {},
     "output_type": "execute_result"
    }
   ],
   "source": [
    "len(path[0])"
   ]
  },
  {
   "cell_type": "code",
   "execution_count": 181,
   "metadata": {},
   "outputs": [],
   "source": [
    "list=[]\n",
    "for i in range(len(path[0])):\n",
    "    list.append(path[0][i])"
   ]
  },
  {
   "cell_type": "code",
   "execution_count": 182,
   "metadata": {
    "scrolled": false
   },
   "outputs": [
    {
     "data": {
      "text/plain": [
       "231"
      ]
     },
     "execution_count": 182,
     "metadata": {},
     "output_type": "execute_result"
    }
   ],
   "source": [
    "len(list)"
   ]
  },
  {
   "cell_type": "code",
   "execution_count": 183,
   "metadata": {},
   "outputs": [],
   "source": [
    "x= []\n",
    "y= []\n",
    "for i in range(len(list)):\n",
    "    x.append(list[i][0])\n",
    "    y.append(list[i][1])"
   ]
  },
  {
   "cell_type": "code",
   "execution_count": 184,
   "metadata": {},
   "outputs": [
    {
     "data": {
      "image/png": "[encoded data removed]",
      "text/plain": [
       "<Figure size 432x288 with 1 Axes>"
      ]
     },
     "metadata": {
      "needs_background": "light"
     },
     "output_type": "display_data"
    }
   ],
   "source": [
    "ax=plt.gca()\n",
    "ax.set_ylim(ax.get_ylim()[::-1])\n",
    "ax.xaxis.set_ticks(np.arange(0, 1200, 100))\n",
    "ax.yaxis.set_ticks(np.arange(0, 1200, 100))\n",
    "ax.xaxis.tick_top()\n",
    "plt.scatter(y,x);"
   ]
  },
  {
   "cell_type": "code",
   "execution_count": 185,
   "metadata": {},
   "outputs": [
    {
     "data": {
      "image/png": "[encoded data removed]",
      "text/plain": [
       "<Figure size 432x288 with 1 Axes>"
      ]
     },
     "metadata": {
      "needs_background": "light"
     },
     "output_type": "display_data"
    }
   ],
   "source": [
    "ax=plt.gca()\n",
    "ax.xaxis.set_ticks(np.arange(0, 1200, 100))\n",
    "ax.yaxis.set_ticks(np.arange(0, 1200, 100))\n",
    "ax.xaxis.tick_top()\n",
    "plt.imshow(mapp);\n",
    "plt.scatter(y,x);"
   ]
  },
  {
   "cell_type": "code",
   "execution_count": null,
   "metadata": {},
   "outputs": [],
   "source": []
  }
 ],
 "metadata": {
  "kernelspec": {
   "display_name": "Python 3",
   "language": "python",
   "name": "python3"
  },
  "language_info": {
   "codemirror_mode": {
    "name": "ipython",
    "version": 3
   },
   "file_extension": ".py",
   "mimetype": "text/x-python",
   "name": "python",
   "nbconvert_exporter": "python",
   "pygments_lexer": "ipython3",
   "version": "3.8.5"
  }
 },
 "nbformat": 4,
 "nbformat_minor": 4
}
